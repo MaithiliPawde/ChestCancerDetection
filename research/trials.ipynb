{
 "cells": [
  {
   "cell_type": "code",
   "execution_count": 1,
   "metadata": {},
   "outputs": [],
   "source": [
    "import gdown\n"
   ]
  },
  {
   "cell_type": "code",
   "execution_count": 7,
   "metadata": {},
   "outputs": [],
   "source": [
    "url = \"https://drive.google.com/file/d/1M7tpPzXv1Zy-5mMzL9e-qWd6GMl3xk-E/view?usp=sharing\""
   ]
  },
  {
   "cell_type": "code",
   "execution_count": 8,
   "metadata": {},
   "outputs": [
    {
     "data": {
      "text/plain": [
       "'1M7tpPzXv1Zy-5mMzL9e-qWd6GMl3xk-E'"
      ]
     },
     "execution_count": 8,
     "metadata": {},
     "output_type": "execute_result"
    }
   ],
   "source": [
    "file_id = url.split(\"/\")[-2]\n",
    "file_id\n"
   ]
  },
  {
   "cell_type": "code",
   "execution_count": 10,
   "metadata": {},
   "outputs": [
    {
     "name": "stderr",
     "output_type": "stream",
     "text": [
      "Downloading...\n",
      "From (original): https://drive.google.com/uc?/export=download&id=1M7tpPzXv1Zy-5mMzL9e-qWd6GMl3xk-E\n",
      "From (redirected): https://drive.google.com/uc?%2Fexport=download&id=1M7tpPzXv1Zy-5mMzL9e-qWd6GMl3xk-E&confirm=t&uuid=6234a50c-9443-42fb-b553-a009d032a532\n",
      "To: /Users/maithilipawde/Desktop/chestcancer/ChestCancerDetection/research/dataset_final.zip\n",
      "100%|██████████| 77.8M/77.8M [00:20<00:00, 3.73MB/s]\n"
     ]
    },
    {
     "data": {
      "text/plain": [
       "'dataset_final.zip'"
      ]
     },
     "execution_count": 10,
     "metadata": {},
     "output_type": "execute_result"
    }
   ],
   "source": [
    "prefix = 'https://drive.google.com/uc?/export=download&id='\n",
    "gdown.download(prefix+file_id, \"dataset_final.zip\")"
   ]
  }
 ],
 "metadata": {
  "kernelspec": {
   "display_name": "nilu",
   "language": "python",
   "name": "python3"
  },
  "language_info": {
   "codemirror_mode": {
    "name": "ipython",
    "version": 3
   },
   "file_extension": ".py",
   "mimetype": "text/x-python",
   "name": "python",
   "nbconvert_exporter": "python",
   "pygments_lexer": "ipython3",
   "version": "3.11.7"
  }
 },
 "nbformat": 4,
 "nbformat_minor": 2
}
